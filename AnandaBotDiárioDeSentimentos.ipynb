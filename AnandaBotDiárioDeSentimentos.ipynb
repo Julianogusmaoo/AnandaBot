{
  "nbformat": 4,
  "nbformat_minor": 0,
  "metadata": {
    "colab": {
      "provenance": []
    },
    "kernelspec": {
      "name": "python3",
      "display_name": "Python 3"
    },
    "language_info": {
      "name": "python"
    }
  },
  "cells": [
    {
      "cell_type": "code",
      "source": [
        "!pip install google-generativeai"
      ],
      "metadata": {
        "collapsed": true,
        "id": "75Z3EKWTAzSd",
        "colab": {
          "base_uri": "https://localhost:8080/"
        },
        "outputId": "37885223-e305-4111-c676-4ab78ea08866"
      },
      "execution_count": 17,
      "outputs": [
        {
          "output_type": "stream",
          "name": "stdout",
          "text": [
            "Requirement already satisfied: google-generativeai in /usr/local/lib/python3.11/dist-packages (0.8.5)\n",
            "Requirement already satisfied: google-ai-generativelanguage==0.6.15 in /usr/local/lib/python3.11/dist-packages (from google-generativeai) (0.6.15)\n",
            "Requirement already satisfied: google-api-core in /usr/local/lib/python3.11/dist-packages (from google-generativeai) (2.24.2)\n",
            "Requirement already satisfied: google-api-python-client in /usr/local/lib/python3.11/dist-packages (from google-generativeai) (2.169.0)\n",
            "Requirement already satisfied: google-auth>=2.15.0 in /usr/local/lib/python3.11/dist-packages (from google-generativeai) (2.38.0)\n",
            "Requirement already satisfied: protobuf in /usr/local/lib/python3.11/dist-packages (from google-generativeai) (5.29.4)\n",
            "Requirement already satisfied: pydantic in /usr/local/lib/python3.11/dist-packages (from google-generativeai) (2.11.4)\n",
            "Requirement already satisfied: tqdm in /usr/local/lib/python3.11/dist-packages (from google-generativeai) (4.67.1)\n",
            "Requirement already satisfied: typing-extensions in /usr/local/lib/python3.11/dist-packages (from google-generativeai) (4.13.2)\n",
            "Requirement already satisfied: proto-plus<2.0.0dev,>=1.22.3 in /usr/local/lib/python3.11/dist-packages (from google-ai-generativelanguage==0.6.15->google-generativeai) (1.26.1)\n",
            "Requirement already satisfied: googleapis-common-protos<2.0.0,>=1.56.2 in /usr/local/lib/python3.11/dist-packages (from google-api-core->google-generativeai) (1.70.0)\n",
            "Requirement already satisfied: requests<3.0.0,>=2.18.0 in /usr/local/lib/python3.11/dist-packages (from google-api-core->google-generativeai) (2.32.3)\n",
            "Requirement already satisfied: cachetools<6.0,>=2.0.0 in /usr/local/lib/python3.11/dist-packages (from google-auth>=2.15.0->google-generativeai) (5.5.2)\n",
            "Requirement already satisfied: pyasn1-modules>=0.2.1 in /usr/local/lib/python3.11/dist-packages (from google-auth>=2.15.0->google-generativeai) (0.4.2)\n",
            "Requirement already satisfied: rsa<5,>=3.1.4 in /usr/local/lib/python3.11/dist-packages (from google-auth>=2.15.0->google-generativeai) (4.9.1)\n",
            "Requirement already satisfied: httplib2<1.0.0,>=0.19.0 in /usr/local/lib/python3.11/dist-packages (from google-api-python-client->google-generativeai) (0.22.0)\n",
            "Requirement already satisfied: google-auth-httplib2<1.0.0,>=0.2.0 in /usr/local/lib/python3.11/dist-packages (from google-api-python-client->google-generativeai) (0.2.0)\n",
            "Requirement already satisfied: uritemplate<5,>=3.0.1 in /usr/local/lib/python3.11/dist-packages (from google-api-python-client->google-generativeai) (4.1.1)\n",
            "Requirement already satisfied: annotated-types>=0.6.0 in /usr/local/lib/python3.11/dist-packages (from pydantic->google-generativeai) (0.7.0)\n",
            "Requirement already satisfied: pydantic-core==2.33.2 in /usr/local/lib/python3.11/dist-packages (from pydantic->google-generativeai) (2.33.2)\n",
            "Requirement already satisfied: typing-inspection>=0.4.0 in /usr/local/lib/python3.11/dist-packages (from pydantic->google-generativeai) (0.4.0)\n",
            "Requirement already satisfied: grpcio<2.0dev,>=1.33.2 in /usr/local/lib/python3.11/dist-packages (from google-api-core[grpc]!=2.0.*,!=2.1.*,!=2.10.*,!=2.2.*,!=2.3.*,!=2.4.*,!=2.5.*,!=2.6.*,!=2.7.*,!=2.8.*,!=2.9.*,<3.0.0dev,>=1.34.1->google-ai-generativelanguage==0.6.15->google-generativeai) (1.71.0)\n",
            "Requirement already satisfied: grpcio-status<2.0.dev0,>=1.33.2 in /usr/local/lib/python3.11/dist-packages (from google-api-core[grpc]!=2.0.*,!=2.1.*,!=2.10.*,!=2.2.*,!=2.3.*,!=2.4.*,!=2.5.*,!=2.6.*,!=2.7.*,!=2.8.*,!=2.9.*,<3.0.0dev,>=1.34.1->google-ai-generativelanguage==0.6.15->google-generativeai) (1.71.0)\n",
            "Requirement already satisfied: pyparsing!=3.0.0,!=3.0.1,!=3.0.2,!=3.0.3,<4,>=2.4.2 in /usr/local/lib/python3.11/dist-packages (from httplib2<1.0.0,>=0.19.0->google-api-python-client->google-generativeai) (3.2.3)\n",
            "Requirement already satisfied: pyasn1<0.7.0,>=0.6.1 in /usr/local/lib/python3.11/dist-packages (from pyasn1-modules>=0.2.1->google-auth>=2.15.0->google-generativeai) (0.6.1)\n",
            "Requirement already satisfied: charset-normalizer<4,>=2 in /usr/local/lib/python3.11/dist-packages (from requests<3.0.0,>=2.18.0->google-api-core->google-generativeai) (3.4.2)\n",
            "Requirement already satisfied: idna<4,>=2.5 in /usr/local/lib/python3.11/dist-packages (from requests<3.0.0,>=2.18.0->google-api-core->google-generativeai) (3.10)\n",
            "Requirement already satisfied: urllib3<3,>=1.21.1 in /usr/local/lib/python3.11/dist-packages (from requests<3.0.0,>=2.18.0->google-api-core->google-generativeai) (2.4.0)\n",
            "Requirement already satisfied: certifi>=2017.4.17 in /usr/local/lib/python3.11/dist-packages (from requests<3.0.0,>=2.18.0->google-api-core->google-generativeai) (2025.4.26)\n"
          ]
        }
      ]
    },
    {
      "cell_type": "code",
      "source": [
        "for model in genai.list_models():\n",
        "  print(model.name)"
      ],
      "metadata": {
        "id": "LCgRGQfxwbNC",
        "collapsed": true,
        "colab": {
          "base_uri": "https://localhost:8080/",
          "height": 921
        },
        "outputId": "612e62e9-34ca-463c-c44c-5ba9d65aa0f3"
      },
      "execution_count": 25,
      "outputs": [
        {
          "output_type": "stream",
          "name": "stdout",
          "text": [
            "models/embedding-gecko-001\n",
            "models/gemini-1.0-pro-vision-latest\n",
            "models/gemini-pro-vision\n",
            "models/gemini-1.5-pro-latest\n",
            "models/gemini-1.5-pro-001\n",
            "models/gemini-1.5-pro-002\n",
            "models/gemini-1.5-pro\n",
            "models/gemini-1.5-flash-latest\n",
            "models/gemini-1.5-flash-001\n",
            "models/gemini-1.5-flash-001-tuning\n",
            "models/gemini-1.5-flash\n",
            "models/gemini-1.5-flash-002\n",
            "models/gemini-1.5-flash-8b\n",
            "models/gemini-1.5-flash-8b-001\n",
            "models/gemini-1.5-flash-8b-latest\n",
            "models/gemini-1.5-flash-8b-exp-0827\n",
            "models/gemini-1.5-flash-8b-exp-0924\n",
            "models/gemini-2.5-pro-exp-03-25\n",
            "models/gemini-2.5-pro-preview-03-25\n",
            "models/gemini-2.5-flash-preview-04-17\n",
            "models/gemini-2.5-flash-preview-04-17-thinking\n",
            "models/gemini-2.5-pro-preview-05-06\n",
            "models/gemini-2.0-flash-exp\n",
            "models/gemini-2.0-flash\n",
            "models/gemini-2.0-flash-001\n",
            "models/gemini-2.0-flash-exp-image-generation\n",
            "models/gemini-2.0-flash-lite-001\n",
            "models/gemini-2.0-flash-lite\n",
            "models/gemini-2.0-flash-preview-image-generation\n",
            "models/gemini-2.0-flash-lite-preview-02-05\n",
            "models/gemini-2.0-flash-lite-preview\n",
            "models/gemini-2.0-pro-exp\n",
            "models/gemini-2.0-pro-exp-02-05\n",
            "models/gemini-exp-1206\n",
            "models/gemini-2.0-flash-thinking-exp-01-21\n",
            "models/gemini-2.0-flash-thinking-exp\n",
            "models/gemini-2.0-flash-thinking-exp-1219\n",
            "models/learnlm-2.0-flash-experimental\n",
            "models/gemma-3-1b-it\n",
            "models/gemma-3-4b-it\n",
            "models/gemma-3-12b-it\n",
            "models/gemma-3-27b-it\n",
            "models/embedding-001\n",
            "models/text-embedding-004\n",
            "models/gemini-embedding-exp-03-07\n",
            "models/gemini-embedding-exp\n",
            "models/aqa\n",
            "models/imagen-3.0-generate-002\n",
            "models/gemini-2.0-flash-live-001\n"
          ]
        }
      ]
    },
    {
      "cell_type": "code",
      "source": [
        "from IPython import get_ipython\n",
        "from IPython.display import display\n",
        "\n",
        "\n",
        "import os\n",
        "import json\n",
        "from google.colab import userdata\n",
        "import google.generativeai as genai\n",
        "from collections import Counter\n",
        "from datetime import datetime, timedelta\n",
        "from google.colab import files"
      ],
      "metadata": {
        "id": "aHSODci5xoSa"
      },
      "execution_count": 18,
      "outputs": []
    },
    {
      "cell_type": "code",
      "source": [
        "!pip install googlesearch-python\n",
        "from googlesearch import search"
      ],
      "metadata": {
        "collapsed": true,
        "id": "AwxlFtM0Essx",
        "colab": {
          "base_uri": "https://localhost:8080/"
        },
        "outputId": "501297ac-6840-4a06-86c6-479db0e6f6ad"
      },
      "execution_count": 21,
      "outputs": [
        {
          "output_type": "stream",
          "name": "stdout",
          "text": [
            "Collecting googlesearch-python\n",
            "  Downloading googlesearch_python-1.3.0-py3-none-any.whl.metadata (3.4 kB)\n",
            "Requirement already satisfied: beautifulsoup4>=4.9 in /usr/local/lib/python3.11/dist-packages (from googlesearch-python) (4.13.4)\n",
            "Requirement already satisfied: requests>=2.20 in /usr/local/lib/python3.11/dist-packages (from googlesearch-python) (2.32.3)\n",
            "Requirement already satisfied: soupsieve>1.2 in /usr/local/lib/python3.11/dist-packages (from beautifulsoup4>=4.9->googlesearch-python) (2.7)\n",
            "Requirement already satisfied: typing-extensions>=4.0.0 in /usr/local/lib/python3.11/dist-packages (from beautifulsoup4>=4.9->googlesearch-python) (4.13.2)\n",
            "Requirement already satisfied: charset-normalizer<4,>=2 in /usr/local/lib/python3.11/dist-packages (from requests>=2.20->googlesearch-python) (3.4.2)\n",
            "Requirement already satisfied: idna<4,>=2.5 in /usr/local/lib/python3.11/dist-packages (from requests>=2.20->googlesearch-python) (3.10)\n",
            "Requirement already satisfied: urllib3<3,>=1.21.1 in /usr/local/lib/python3.11/dist-packages (from requests>=2.20->googlesearch-python) (2.4.0)\n",
            "Requirement already satisfied: certifi>=2017.4.17 in /usr/local/lib/python3.11/dist-packages (from requests>=2.20->googlesearch-python) (2025.4.26)\n",
            "Downloading googlesearch_python-1.3.0-py3-none-any.whl (5.6 kB)\n",
            "Installing collected packages: googlesearch-python\n",
            "Successfully installed googlesearch-python-1.3.0\n"
          ]
        }
      ]
    },
    {
      "cell_type": "code",
      "source": [
        "!pip install pandas\n",
        "import pandas as pd\n",
        "\n",
        "import matplotlib.pyplot as plt\n",
        "import seaborn as sns"
      ],
      "metadata": {
        "collapsed": true,
        "id": "xj4tA9DCLK-9",
        "colab": {
          "base_uri": "https://localhost:8080/"
        },
        "outputId": "6e84c3ee-15fe-4ce1-9557-af3ab2304a1f"
      },
      "execution_count": 22,
      "outputs": [
        {
          "output_type": "stream",
          "name": "stdout",
          "text": [
            "Requirement already satisfied: pandas in /usr/local/lib/python3.11/dist-packages (2.2.2)\n",
            "Requirement already satisfied: numpy>=1.23.2 in /usr/local/lib/python3.11/dist-packages (from pandas) (2.0.2)\n",
            "Requirement already satisfied: python-dateutil>=2.8.2 in /usr/local/lib/python3.11/dist-packages (from pandas) (2.9.0.post0)\n",
            "Requirement already satisfied: pytz>=2020.1 in /usr/local/lib/python3.11/dist-packages (from pandas) (2025.2)\n",
            "Requirement already satisfied: tzdata>=2022.7 in /usr/local/lib/python3.11/dist-packages (from pandas) (2025.2)\n",
            "Requirement already satisfied: six>=1.5 in /usr/local/lib/python3.11/dist-packages (from python-dateutil>=2.8.2->pandas) (1.17.0)\n"
          ]
        }
      ]
    },
    {
      "cell_type": "code",
      "source": [
        "# Obtenha a chave da API de Colab userdata\n",
        "API_KEY = userdata.get('GOOGLE_API_KEY')\n",
        "\n",
        "# Configure a biblioteca google.generativeai com a chave da API\n",
        "genai.configure(api_key=API_KEY) # Use API_KEY here"
      ],
      "metadata": {
        "id": "2ajKW0DxBEUe"
      },
      "execution_count": 23,
      "outputs": []
    },
    {
      "cell_type": "code",
      "source": [
        "# Definir o nome do arquivo para o histórico\n",
        "ARQUIVO_HISTORICO = 'historico_palavras.json'\n",
        "\n",
        "# Inicializar historico_de_palavras como uma lista vazia.\n",
        "# Ele será preenchido ao carregar o arquivo.\n",
        "historico_de_palavras = []\n"
      ],
      "metadata": {
        "id": "gD0yJqqABTXf"
      },
      "execution_count": 24,
      "outputs": []
    },
    {
      "cell_type": "code",
      "source": [
        "# Função para carregar o histórico do arquivo\n",
        "def carregar_historico(nome_arquivo):\n",
        "    global historico_de_palavras # Indica que vamos modificar a variável global\n",
        "    historico_de_palavras = [] # Inicializa como vazio para evitar duplicatas ao recarregar\n",
        "    if os.path.exists(nome_arquivo):\n",
        "        try:\n",
        "            with open(nome_arquivo, 'r', encoding='utf-8') as f:\n",
        "                data = json.load(f)\n",
        "                # Converte as strings de data de volta para objetos datetime e adiciona campo 'sentimento' se faltar\n",
        "                for entry in data:\n",
        "                    if 'data' in entry and isinstance(entry['data'], str):\n",
        "                        try:\n",
        "                            entry['data'] = datetime.fromisoformat(entry['data'])\n",
        "                        except ValueError:\n",
        "                             print(f\"Aviso: Não foi possível converter data para datetime: {entry['data']}\")\n",
        "                             # Pula entradas com data inválida\n",
        "                             continue # Pula para a próxima entrada\n",
        "                    # Se o campo 'sentimento' não existir, classifique-o agora (chamada única por palavra ao carregar)\n",
        "                    if 'sentimento' not in entry:\n",
        "                        print(f\"Classificando sentimento para palavra histórica: '{entry.get('palavra', 'N/A')}'\")\n",
        "                        entry['sentimento'] = classificar_sentimento_palavra(entry.get('palavra', '')) # Classifica se a palavra existir\n",
        "                    historico_de_palavras.append(entry) # Adiciona a entrada (modificada ou original) ao histórico\n",
        "                print(f\"Histórico carregado com sucesso de {nome_arquivo}\")\n",
        "        except json.JSONDecodeError:\n",
        "            print(f\"Erro ao decodificar JSON de {nome_arquivo}. O arquivo pode estar corrompido.\")\n",
        "            historico_de_palavras = [] # Reinicia o histórico se o arquivo estiver corrompido\n",
        "        except Exception as e:\n",
        "            print(f\"Ocorreu um erro ao carregar o histórico: {e}\")\n",
        "            historico_de_palavras = [] # Reinicia o histórico em caso de outros erros\n",
        "    else:\n",
        "        print(f\"Arquivo de histórico {nome_arquivo} não encontrado. Iniciando com histórico vazio.\")\n",
        "        historico_de_palavras = []\n",
        "\n",
        "# Carregar o histórico ao iniciar o script\n",
        "carregar_historico(ARQUIVO_HISTORICO)\n"
      ],
      "metadata": {
        "id": "IW1kxbQgBg7d",
        "colab": {
          "base_uri": "https://localhost:8080/"
        },
        "outputId": "d95d40b4-c13d-4cbc-899f-9b1557ae1381"
      },
      "execution_count": 26,
      "outputs": [
        {
          "output_type": "stream",
          "name": "stdout",
          "text": [
            "Arquivo de histórico historico_palavras.json não encontrado. Iniciando com histórico vazio.\n"
          ]
        }
      ]
    },
    {
      "cell_type": "code",
      "source": [
        "# Função para salvar o histórico no arquivo\n",
        "def salvar_historico(nome_arquivo):\n",
        "    try:\n",
        "        # Converte objetos datetime para strings antes de salvar em JSON\n",
        "        data_to_save = []\n",
        "        for entry in historico_de_palavras:\n",
        "            saved_entry = entry.copy() # Cria uma cópia para não modificar a lista original\n",
        "            if 'data' in saved_entry and isinstance(saved_entry['data'], datetime):\n",
        "                saved_entry['data'] = saved_entry['data'].isoformat() # Converte datetime para string ISO 8601\n",
        "            data_to_save.append(saved_entry)\n",
        "\n",
        "        with open(nome_arquivo, 'w', encoding='utf-8') as f:\n",
        "            json.dump(data_to_save, f, ensure_ascii=False, indent=4) # Salva em JSON com formatação legível\n",
        "        print(f\"Histórico salvo com sucesso em {nome_arquivo}\")\n",
        "    except Exception as e:\n",
        "        print(f\"Ocorreu um erro ao salvar o histórico: {e}\")\n",
        "\n",
        "\n",
        "# Carregar o histórico ao iniciar o script\n",
        "carregar_historico(ARQUIVO_HISTORICO)"
      ],
      "metadata": {
        "id": "KegM40tqBn7f",
        "colab": {
          "base_uri": "https://localhost:8080/"
        },
        "outputId": "81ce8bd4-e12d-4356-e4e4-ad5eec0227b1"
      },
      "execution_count": 27,
      "outputs": [
        {
          "output_type": "stream",
          "name": "stdout",
          "text": [
            "Arquivo de histórico historico_palavras.json não encontrado. Iniciando com histórico vazio.\n"
          ]
        }
      ]
    },
    {
      "cell_type": "code",
      "source": [
        "# Função para converter o histórico para DataFrame\n",
        "def historico_para_dataframe(historico):\n",
        "    \"\"\"Converte a lista de histórico para um DataFrame pandas.\"\"\"\n",
        "    if not historico:\n",
        "        print(\"Histórico vazio. Não é possível criar um DataFrame.\")\n",
        "        return pd.DataFrame() # Retorna um DataFrame vazio se o histórico estiver vazio\n",
        "\n",
        "    # Converte a lista de dicionários em DataFrame\n",
        "    df = pd.DataFrame(historico)\n",
        "\n",
        "    # Garante que a coluna 'data' é do tipo datetime (se ainda não for)\n",
        "    # Isso é importante para o filtro de ranking, mas também útil aqui.\n",
        "    # Pode ser que ao carregar do JSON a data venha como string, dependendo do ponto\n",
        "    # onde esta função é chamada, por isso a conversão é segura.\n",
        "    df['data'] = pd.to_datetime(df['data'], errors='coerce')\n",
        "\n",
        "    return df"
      ],
      "metadata": {
        "id": "v6iK7uyLLngO"
      },
      "execution_count": 28,
      "outputs": []
    },
    {
      "cell_type": "code",
      "source": [
        "# Função para baixar o DataFrame como CSV\n",
        "def baixar_historico_csv(dataframe, nome_arquivo=\"historico_palavras.csv\"):\n",
        "    \"\"\"Salva um DataFrame em um arquivo CSV e inicia o download.\"\"\"\n",
        "    if dataframe.empty:\n",
        "        print(\"DataFrame vazio. Nada para baixar.\")\n",
        "        return\n",
        "\n",
        "    try:\n",
        "        dataframe.to_csv(nome_arquivo, index=False, encoding='utf-8')\n",
        "        print(f\"Preparando download de '{nome_arquivo}'...\")\n",
        "        files.download(nome_arquivo)\n",
        "        print(\"Download iniciado.\")\n",
        "    except Exception as e:\n",
        "        print(f\"Erro ao baixar o arquivo CSV: {e}\")"
      ],
      "metadata": {
        "id": "KPXElpWbLsKe"
      },
      "execution_count": 29,
      "outputs": []
    },
    {
      "cell_type": "code",
      "source": [
        "# ... código anterior ...\n",
        "\n",
        "def sugerir_momentos_felizes(resumo_do_dia):\n",
        "    \"\"\"\n",
        "    Sugere atividades para melhorar o humor com base no resumo do dia\n",
        "    e resultados de busca no Google.\n",
        "    \"\"\"\n",
        "    google_query = resumo_do_dia + \" como lidar com\" # Exemplo de consulta\n",
        "    google_results = []\n",
        "    try:\n",
        "        for result in search(google_query, num_results=3): # Busca os 3 primeiros resultados\n",
        "            google_results.append(result)\n",
        "    except Exception as e:\n",
        "        print(f\"Erro na busca do Google: {e}\")\n",
        "        # Continua mesmo se a busca falhar, mas sem contexto do Google\n",
        "        google_results = [] # Garante que google_results é uma lista vazia em caso de erro\n",
        "\n",
        "    # Formata os resultados da busca para incluir no prompt\n",
        "    if google_results:\n",
        "        # Modificação: Remove a descrição dos links e foca apenas nos links em si ou em um resumo genérico\n",
        "        google_context = \"Considere as seguintes informações relevantes:\\n\"\n",
        "        for i, result in enumerate(google_results):\n",
        "            # Você pode escolher como formatar. Apenas o link ou um resumo genérico.\n",
        "            google_context += f\"- {result}\\n\" # Apenas o link\n",
        "            # Ou, se preferir uma descrição mais genérica:\n",
        "            # google_context += f\"- Informação útil relacionada ao tema: {result}\\n\" # Usar o link como exemplo de informação\n",
        "\n",
        "    else:\n",
        "        google_context = \"Nenhuma informação relevante encontrada em fontes externas.\\n\"\n",
        "\n",
        "\n",
        "    # Prepara o prompt para o Gemini, incluindo o contexto do Google Search\n",
        "    prompt_text = f\"\"\"\n",
        "    Considerando o seguinte resumo do meu dia: \"{resumo_do_dia}\".\n",
        "\n",
        "    {google_context} # Inclui as informações possivelmente relevantes\n",
        "\n",
        "    Com base no resumo do dia e nas informações possivelmente úteis fornecidas,\n",
        "    sugira 3 a 5 atividades simples, práticas e rápidas que eu poderia fazer agora para **ajudar a melhorar o humor ou trazer um momento de relaxamento/conforto**.\n",
        "    As sugestões devem ser apresentadas como uma lista numerada.\n",
        "    Priorize sugestões que sejam relevantes para o resumo do dia, usando as informações úteis como inspiração, **mas evite mencionar explicitamente \"links\" ou fazer suposições detalhadas sobre o conteúdo deles**.\n",
        "    **Enfatize que são apenas opções para explorar e não metas a serem alcançadas.**\n",
        "    \"\"\"\n",
        "\n",
        "    model = genai.GenerativeModel('gemini-1.5-flash')\n",
        "    try:\n",
        "        response = model.generate_content(prompt_text)\n",
        "        return response.text\n",
        "    except Exception as e:\n",
        "        print(f\"Erro ao gerar conteúdo com Gemini: {e}\")\n",
        "        return \"Desculpe, não foi possível gerar sugestões de momentos de bem-estar neste momento. Tente novamente mais tarde.\"\n",
        "\n",
        "# ... o restante do código ..."
      ],
      "metadata": {
        "id": "4jfB-j6BCKUR"
      },
      "execution_count": 30,
      "outputs": []
    },
    {
      "cell_type": "code",
      "source": [
        "# Função para registrar as palavras e classificar o sentimento no momento do registro\n",
        "def registrar_palavras(palavras):\n",
        "    data_registro = datetime.now()\n",
        "    for palavra in palavras:\n",
        "        # Classifica o sentimento no momento do registro para evitar chamadas futuras repetidas\n",
        "        sentimento_classificado = classificar_sentimento_palavra(palavra)\n",
        "        historico_de_palavras.append({\n",
        "            'palavra': palavra,\n",
        "            'data': data_registro,\n",
        "            'sentimento': sentimento_classificado # Armazenar o sentimento classificado\n",
        "        })"
      ],
      "metadata": {
        "id": "5wVSpIWx1Uak"
      },
      "execution_count": 31,
      "outputs": []
    },
    {
      "cell_type": "code",
      "source": [
        "def analisar_sentimento(palavras):\n",
        "    \"\"\"\n",
        "    Analisa o sentimento geral das palavras, fornece uma pontuação\n",
        "    e identifica categorias de sentimento mais específicas.\n",
        "    \"\"\"\n",
        "    prompt_text = f\"\"\"\n",
        "    Analise o sentimento das seguintes palavras, que resumem o dia de uma pessoa: \"{', '.join(palavras)}\".\n",
        "    Forneça:\n",
        "    1. Uma pontuação de sentimento geral em uma escala de -1 (muito negativo) a 1 (muito positivo).\n",
        "    2. O sentimento predominante (Positivo, Negativo ou Neutro).\n",
        "    3. Categórias de sentimento mais específicas que descrevam as palavras (ex: \"grato\", \"cansado\", \"animado\", \"frustrado\", \"calmo\", etc.). Liste até 3 categorias se aplicável.\n",
        "    4. Uma breve explicação do porquê esses sentimentos e a pontuação foram identificados com base nas palavras fornecidas.\n",
        "\n",
        "    Formate a resposta da seguinte maneira:\n",
        "    Pontuação: [pontuação numérica]\n",
        "    Predominante: [Sentimento Predominante]\n",
        "    Categorias: [Categoria 1], [Categoria 2], ... (se houver)\n",
        "    Análise: [Breve explicação]\n",
        "\n",
        "    Reconheça que todos os sentimentos são válidos e parte da experiência humana.\n",
        "    Adicionalmente, ofereça uma breve sugestão ou reflexão sobre como lidar com o sentimento identificado de forma construtiva (seja ele positivo ou negativo).\n",
        "    \"\"\"\n",
        "\n",
        "    model = genai.GenerativeModel('gemini-1.5-flash')\n",
        "    try:\n",
        "        response = model.generate_content(prompt_text)\n",
        "        return response.text\n",
        "    except Exception as e:\n",
        "        print(f\"Erro ao gerar conteúdo com Gemini: {e}\")\n",
        "        return \"Desculpe, não foi possível realizar a análise de sentimento neste momento.\""
      ],
      "metadata": {
        "id": "EP_D2EtAudc5"
      },
      "execution_count": 32,
      "outputs": []
    },
    {
      "cell_type": "code",
      "source": [
        "# Função para classificar o sentimento de uma única palavra\n",
        "def classificar_sentimento_palavra(palavra):\n",
        "    \"\"\"\n",
        "    Classifica o sentimento de uma única palavra como positivo, negativo ou neutro\n",
        "    usando o Gemini. Retorna a classificação (string).\n",
        "    \"\"\"\n",
        "    prompt_text = f\"\"\"\n",
        "    Classifique a seguinte palavra em uma das categorias de sentimento: Positivo, Negativo ou Neutro.\n",
        "    Palavra: \"{palavra}\"\n",
        "    Responda apenas com a palavra da categoria de sentimento (Positivo, Negativo ou Neutro), sem explicações adicionais.\n",
        "    \"\"\"\n",
        "    model = genai.GenerativeModel('gemini-1.5-flash')\n",
        "    try:\n",
        "        response = model.generate_content(prompt_text)\n",
        "        # Limpa a resposta para obter apenas a categoria (remove espaços em branco, etc.)\n",
        "        sentimento = response.text.strip()\n",
        "        # Valida se a resposta é uma das categorias esperadas\n",
        "        if sentimento in ['Positivo', 'Negativo', 'Neutro']:\n",
        "            return sentimento\n",
        "        else:\n",
        "            # Se a resposta não for clara, consideramos neutro ou lidamos de outra forma\n",
        "            print(f\"Aviso: Classificação inesperada para '{palavra}': '{sentimento}'. Considerado Neutro.\")\n",
        "            return 'Neutro'\n",
        "    except Exception as e:\n",
        "        print(f\"Erro ao classificar sentimento para '{palavra}': {e}. Considerado Neutro.\")\n",
        "        return 'Neutro'"
      ],
      "metadata": {
        "id": "MsWRq6e7P7PQ"
      },
      "execution_count": 33,
      "outputs": []
    },
    {
      "cell_type": "code",
      "source": [
        "# Função para obter dados de frequência de sentimento por período\n",
        "def obter_frequencia_sentimento(historico, periodo=None):\n",
        "    \"\"\"\n",
        "    Calcula a frequência de palavras por sentimento (Positivo, Negativo, Neutro)\n",
        "    em um determinado período, using the sentiment already classified in the history.\n",
        "    \"\"\"\n",
        "    df = historico_para_dataframe(historico)\n",
        "\n",
        "    if df.empty:\n",
        "        print(\"Histórico vazio. Não é possível calcular a frequência de sentimentos.\")\n",
        "        return {}\n",
        "\n",
        "    # Filtra por período, se especificado\n",
        "    df_filtrado = df # Start with the full dataframe\n",
        "\n",
        "    if periodo == 'semanal':\n",
        "        data_limite = datetime.now() - timedelta(days=7)\n",
        "        df_filtrado = df_filtrado[df_filtrado['data'] >= data_limite]\n",
        "    elif periodo == 'mensal':\n",
        "        data_limite = datetime.now() - timedelta(days=30) # Aproximadamente um mês\n",
        "        df_filtrado = df_filtrado[df_filtrado['data'] >= data_limite]\n",
        "    # If periodo is None or 'total', df_filtrado remains the full dataframe\n",
        "\n",
        "    if df_filtrado.empty:\n",
        "        print(f\"Nenhuma palavra encontrada no período {periodo}.\")\n",
        "        return {}\n",
        "\n",
        "    # Ensure the 'sentimento' column exists and count the occurrences\n",
        "    if 'sentimento' in df_filtrado.columns:\n",
        "        # Use value_counts on the 'sentimento' column\n",
        "        contagem_sentimento = df_filtrado['sentimento'].value_counts().to_dict()\n",
        "        return contagem_sentimento\n",
        "    else:\n",
        "        print(\"Aviso: Coluna 'sentimento' não encontrada no DataFrame. Não é possível calcular a frequência de sentimentos.\")\n",
        "        return {}"
      ],
      "metadata": {
        "id": "rubhnUp8QCF1"
      },
      "execution_count": 34,
      "outputs": []
    },
    {
      "cell_type": "code",
      "source": [
        "# Função para obter o ranking das palavras mais frequentes por período\n",
        "def obter_ranking_palavras(historico, periodo=None, top_n=10):\n",
        "    \"\"\"\n",
        "    Calcula o ranking das palavras mais frequentes em um determinado período.\n",
        "    \"\"\"\n",
        "    df = historico_para_dataframe(historico)\n",
        "\n",
        "    if df.empty:\n",
        "        return []\n",
        "\n",
        "    # Filtra por período, se especificado\n",
        "    if periodo == 'semanal':\n",
        "        data_limite = datetime.now() - timedelta(days=7)\n",
        "        df_filtrado = df[df['data'] >= data_limite]\n",
        "    elif periodo == 'mensal':\n",
        "        data_limite = datetime.now() - timedelta(days=30) # Aproximadamente um mês\n",
        "        df_filtrado = df[df['data'] >= data_limite]\n",
        "    else: # Período total\n",
        "        df_filtrado = df\n",
        "\n",
        "    if df_filtrado.empty:\n",
        "        print(f\"Nenhuma palavra encontrada no período {periodo}.\")\n",
        "        return []\n",
        "\n",
        "    # Usa Counter para contar a frequência das palavras\n",
        "    # Achata a lista de listas (se palavras_chave fosse uma lista de listas) ou apenas conta\n",
        "    # No seu caso, 'palavra' é uma string em cada entrada do histórico\n",
        "    todas_palavras = df_filtrado['palavra'].tolist()\n",
        "    contagem_palavras = Counter(todas_palavras)\n",
        "\n",
        "    # Obtém o ranking das palavras mais comuns\n",
        "    ranking = contagem_palavras.most_common(top_n)\n",
        "\n",
        "    return ranking"
      ],
      "metadata": {
        "id": "SJXoZPrHe1vL"
      },
      "execution_count": 35,
      "outputs": []
    },
    {
      "cell_type": "code",
      "source": [
        "def gerar_grafico_sentimento(dados_frequencia, periodo_label=\"total\"):\n",
        "    \"\"\"\n",
        "    Gera um gráfico de barras da frequência de sentimentos com design moderno.\n",
        "    Usa cores semafóricas (Verde/Positivo, Vermelho/Negativo, Azul/Neutro).\n",
        "    \"\"\"\n",
        "    if not dados_frequencia:\n",
        "        display(Markdown(\"Não há dados para gerar o gráfico.\"))\n",
        "        return\n",
        "\n",
        "    # Definir as cores para cada sentimento\n",
        "    cores_sentimento = {\n",
        "        'Positivo': '#34a853',  # Verde do Google\n",
        "        'Negativo': '#ea4335',  # Vermelho do Google\n",
        "        'Neutro': '#4285f4'     # Azul do Google\n",
        "    }\n",
        "\n",
        "    # Ordenar os sentimentos para garantir a ordem das cores e barras\n",
        "    ordem_sentimentos = ['Negativo', 'Neutro', 'Positivo']\n",
        "    sentimentos_ordenados = [s for s in ordem_sentimentos if s in dados_frequencia]\n",
        "    frequencias_ordenadas = [dados_frequencia.get(s, 0) for s in sentimentos_ordenados]\n",
        "    cores_plotagem = [cores_sentimento.get(s, '#fbbc05') for s in sentimentos_ordenados] # Amarelo do Google como fallback\n",
        "\n",
        "    # Criar um DataFrame temporário para facilitar o uso com hue\n",
        "    df_grafico = pd.DataFrame({\n",
        "        'Sentimento': sentimentos_ordenados,\n",
        "        'Frequência': frequencias_ordenadas\n",
        "    })\n",
        "\n",
        "    # Mapear os sentimentos para as cores para usar com hue\n",
        "    # Garantimos que a ordem no mapeamento seja a mesma para a paleta\n",
        "    palette_mapping = {s: cores_sentimento.get(s, '#fbbc05') for s in sentimentos_ordenados}\n",
        "\n",
        "\n",
        "    # Usar um estilo de seaborn mais limpo e moderno\n",
        "    sns.set_theme(style=\"whitegrid\") # ou \"white\", \"ticks\" dependendo da preferência\n",
        "\n",
        "    plt.figure(figsize=(10, 6)) # Ajuste o tamanho da figura\n",
        "    # Modificado: Passando 'Sentimento' para hue e usando a paleta mapeada, desativando a legenda\n",
        "    ax = sns.barplot(x='Sentimento', y='Frequência', hue='Sentimento', data=df_grafico,\n",
        "                     palette=palette_mapping, alpha=0.9, legend=False)\n",
        "\n",
        "    # Remover bordas e alguns eixos para um visual mais limpo\n",
        "    ax.spines['top'].set_visible(False)\n",
        "    ax.spines['right'].set_visible(False)\n",
        "    ax.spines['left'].set_visible(False)\n",
        "    # Manter o eixo inferior (bottom) para os labels de sentimento\n",
        "    ax.spines['bottom'].set_linewidth(0.5) # Linha inferior mais fina\n",
        "\n",
        "    ax.set_facecolor('white') # Fundo branco para um visual limpo\n",
        "\n",
        "    # Adicionar os valores de frequência no topo de cada barra\n",
        "    # Percorremos os patches do eixo para anotar\n",
        "    for p in ax.patches:\n",
        "        ax.annotate(f'{int(p.get_height())}', # Garante que o valor seja um inteiro\n",
        "                    (p.get_x() + p.get_width() / 2., p.get_height()),\n",
        "                    ha='center', va='center', xytext=(0, 8), textcoords='offset points',\n",
        "                    fontsize=10, color='black') # Ajusta fonte e cor do texto\n",
        "\n",
        "    # Melhorar os rótulos e título\n",
        "    plt.title(f'Frequência de Sentimentos ({periodo_label.capitalize()})', fontsize=16, weight='bold', color='#3c4043') # Cor do texto do Google\n",
        "    plt.xlabel('Sentimento', fontsize=12, color='#3c4043')\n",
        "    plt.ylabel('Frequência', fontsize=12, color='#3c4043')\n",
        "    plt.yticks([]) # Remover ticks do eixo Y, já que os valores estão nas barras\n",
        "\n",
        "    # Ajustar os ticks do eixo X para um visual mais limpo\n",
        "    ax.tick_params(axis='x', length=0, labelsize=11, colors='#3c4043') # Remove ticks e ajusta labels\n",
        "\n",
        "    # Layout justo para evitar cortes\n",
        "    plt.tight_layout()\n",
        "\n",
        "    plt.show()"
      ],
      "metadata": {
        "id": "BqccYGjKQF36"
      },
      "execution_count": 36,
      "outputs": []
    },
    {
      "cell_type": "code",
      "source": [
        "from IPython.display import display, Markdown\n",
        "display(Markdown(\"# Diário de Sentimentos Interativo\"))\n",
        "\n",
        "# --- Início da Introdução do AnandaBot ---\n",
        "display(Markdown(\"## Olá! Eu sou AnandaBot!\"))\n",
        "display(Markdown(\"Meu nome, Ananda (आनन्द), vem do Sânscrito e significa **'bem-aventurança'**, **'alegria suprema'**.\"))\n",
        "display(Markdown(\"Ananda também foi um discípulo de Buda, conhecido por sua compaixão e memória.\"))\n",
        "display(Markdown(\"Estou aqui para te ajudar a refletir sobre seus sentimentos e encontrar momentos de bem-estar.\"))\n",
        "\n",
        "# Coletar nome do usuário\n",
        "nome_usuario = input(\"Como você gostaria de ser chamado(a)? \")\n",
        "if nome_usuario.strip():\n",
        "    display(Markdown(f\"Que nome bonito, **{nome_usuario.capitalize()}**!\"))\n",
        "else:\n",
        "    nome_usuario = \"pessoa querida\" # Nome padrão se o usuário não digitar nada\n",
        "    display(Markdown(f\"Tudo bem, vou te chamar de **{nome_usuario}**.\"))\n",
        "\n",
        "# Coletar data de nascimento para calcular a idade\n",
        "while True:\n",
        "    data_nascimento_str = input(f\"Para te conhecer um pouco melhor, {nome_usuario.capitalize()}, qual é a sua data de nascimento (formato DD/MM/AAAA)? \")\n",
        "    try:\n",
        "        # Tenta converter a string para um objeto datetime\n",
        "        data_nascimento = datetime.strptime(data_nascimento_str, '%d/%m/%Y')\n",
        "\n",
        "        # Calcula a idade\n",
        "        hoje = datetime.now()\n",
        "        idade = hoje.year - data_nascimento.year - ((hoje.month, hoje.day) < (data_nascimento.month, data_nascimento.day))\n",
        "\n",
        "        display(Markdown(f\"Que legal! Então você tem **{idade}** anos!\"))\n",
        "        break # Sai do loop se a data for válida\n",
        "    except ValueError:\n",
        "        display(Markdown(\"<p style='color:red;'>Formato de data inválido. Por favor, use o formato DD/MM/AAAA (ex: 01/01/2000).</p>\"))\n",
        "\n",
        "display(Markdown(f\"\\nPronto para começar nosso diário de sentimentos, {nome_usuario.capitalize()}?\"))\n",
        "\n",
        "# --- Fim da Introdução do AnandaBot ---\n",
        "\n",
        "display(Markdown(\"# Diário de Sentimentos Interativo\"))\n",
        "\n",
        "while True:\n",
        "    # Modifique a string do menu_markdown para incluir o nome do usuário\n",
        "    menu_markdown = f\"\"\"\n",
        "---\n",
        "## Olá, {nome_usuario.capitalize()}! O que você gostaria de fazer hoje?\n",
        "\n",
        "1.  **Resumir meu dia e obter sugestões de bem-estar** (resumo geral, sem registro no histórico)\n",
        "2.  **Registrar 5 palavras-chave do meu dia e analisar sentimento** (para histórico e análise de frequência)\n",
        "3.  **Ver histórico de palavras**\n",
        "4.  **Baixar histórico como CSV**\n",
        "5.  **Ver ranking das palavras mais frequentes**\n",
        "6.  **Ver frequência de sentimentos (gráfico)**\n",
        "7.  **Limpar histórico de palavras**\n",
        "8.  **Sair**\n",
        "\"\"\"\n",
        "    display(Markdown(menu_markdown))\n",
        "\n",
        "    escolha = input(\"Digite o número da sua escolha: \")\n",
        "\n",
        "    if escolha == '1':\n",
        "        display(Markdown(\"---\"))\n",
        "        resumo_dia_geral = input(\"Como foi seu dia hoje (em um breve resumo)? \")\n",
        "\n",
        "        if resumo_dia_geral.strip():\n",
        "            # Usa o resumo geral para análise de sentimento e sugestões,\n",
        "            # mas ESTE RESUMO NÃO VAI PARA O HISTÓRICO DE PALAVRAS.\n",
        "            analise_md = analisar_sentimento([resumo_dia_geral]) # Analisa o resumo como uma \"palavra\" ou frase\n",
        "            display(Markdown(\"### Análise do seu dia:\"))\n",
        "            display(Markdown(analise_md))\n",
        "\n",
        "            sugestoes_md = sugerir_momentos_felizes(resumo_dia_geral)\n",
        "            display(Markdown(\"### Sugestões para um momento de bem-estar:\"))\n",
        "            display(Markdown(sugestoes_md))\n",
        "        else:\n",
        "            display(Markdown(\"<p style='color:orange;'>Por favor, digite um breve resumo do seu dia.</p>\"))\n",
        "\n",
        "    elif escolha == '2':\n",
        "        display(Markdown(\"---\"))\n",
        "        palavras_chave_input = input(\"Digite 5 palavras-chave que resumem seu dia (separe por vírgula): \")\n",
        "        # Processa a entrada em palavras, removendo espaços e convertendo para minúsculas\n",
        "        palavras_chave = [p.strip().lower() for p in palavras_chave_input.split(',') if p.strip()]\n",
        "\n",
        "        if len(palavras_chave) == 5:\n",
        "            # Registra AS 5 PALAVRAS-CHAVE no histórico para frequência e ranking\n",
        "            registrar_palavras(palavras_chave)\n",
        "            salvar_historico(ARQUIVO_HISTORICO)\n",
        "            display(Markdown(\"<p style='color:green;'>Palavras-chave registradas no histórico.</p>\"))\n",
        "\n",
        "            # Analisa o sentimento APENAS das 5 palavras-chave\n",
        "            analise_palavras_md = analisar_sentimento(palavras_chave)\n",
        "            display(Markdown(\"### Análise baseada nas 5 palavras-chave:\"))\n",
        "            display(Markdown(analise_palavras_md))\n",
        "\n",
        "        else:\n",
        "            display(Markdown(\"<p style='color:orange;'>Por favor, digite exatamente 5 palavras-chave separadas por vírgula.</p>\"))\n",
        "\n",
        "    elif escolha == '3':\n",
        "        display(Markdown(\"---\"))\n",
        "        if historico_de_palavras:\n",
        "            output_md = \"## Histórico de Palavras\\n\\n\"\n",
        "            output_md += \"| Data e Hora       | Palavra          | Sentimento        |\\n\"\n",
        "            output_md += \"|-------------------|------------------|-------------------|\\n\"\n",
        "            for entrada in historico_de_palavras:\n",
        "                data_formatada = entrada['data'].strftime('%d/%m/%Y %H:%M') if isinstance(entrada['data'], datetime) else str(entrada['data'])\n",
        "                palavra = entrada['palavra']\n",
        "                sentimento = entrada.get('sentimento', 'Não classificado')\n",
        "                output_md += f\"| {data_formatada} | {palavra.capitalize():<16} | {sentimento.capitalize():<17} |\\n\"\n",
        "            display(Markdown(output_md))\n",
        "        else:\n",
        "            display(Markdown(\"Seu histórico de palavras está vazio.\"))\n",
        "\n",
        "    elif escolha == '4':\n",
        "        display(Markdown(\"---\"))\n",
        "        df_historico = historico_para_dataframe(historico_de_palavras)\n",
        "        if not df_historico.empty:\n",
        "            baixar_historico_csv(df_historico)\n",
        "        else:\n",
        "            display(Markdown(\"<p style='color:orange;'>Não há dados no histórico para baixar.</p>\"))\n",
        "\n",
        "    elif escolha == '5':\n",
        "        display(Markdown(\"---\"))\n",
        "        display(Markdown(\"## Ranking das Palavras Mais Frequentes\"))\n",
        "        periodo_ranking = input(\"Escolha o período (semanal, mensal, total): \").lower()\n",
        "        try:\n",
        "            top_n_ranking_str = input(\"Quantas palavras deseja ver no ranking? (Digite um número): \")\n",
        "            top_n_ranking = int(top_n_ranking_str)\n",
        "            if top_n_ranking <= 0:\n",
        "                display(Markdown(\"<p style='color:red;'>Por favor, insira um número positivo para o ranking.</p>\"))\n",
        "                continue\n",
        "\n",
        "            # O ranking já usa as palavras registradas no histórico, que agora virão da opção 2\n",
        "            ranking = obter_ranking_palavras(historico_de_palavras, periodo=periodo_ranking, top_n=top_n_ranking)\n",
        "\n",
        "            if ranking:\n",
        "                output_md = f\"### Ranking ({periodo_ranking.capitalize()} - Top {top_n_ranking}):\\n\"\n",
        "                for i, (palavra, frequencia) in enumerate(ranking):\n",
        "                    output_md += f\"{i+1}. **{palavra.capitalize()}**: {frequencia} ocorrência(s)\\n\"\n",
        "                display(Markdown(output_md))\n",
        "            else:\n",
        "                display(Markdown(f\"Não há palavras suficientes para gerar um ranking no período '{periodo_ranking}' ou o histórico está vazio.\"))\n",
        "        except ValueError:\n",
        "            display(Markdown(\"<p style='color:red;'>Entrada inválida para o número de palavras. Por favor, digite um número.</p>\"))\n",
        "\n",
        "\n",
        "    elif escolha == '6':\n",
        "        display(Markdown(\"---\"))\n",
        "        display(Markdown(\"## Gráfico de Frequência de Sentimentos\"))\n",
        "        periodo_sentimento = input(\"Escolha o período (semanal, mensal, total): \").lower()\n",
        "\n",
        "        # A frequência já usa as palavras registradas no histórico, que agora virão da opção 2\n",
        "        dados_frequencia = obter_frequencia_sentimento(historico_de_palavras, periodo=periodo_sentimento)\n",
        "\n",
        "        if dados_frequencia:\n",
        "            gerar_grafico_sentimento(dados_frequencia, periodo_sentimento)\n",
        "        else:\n",
        "            display(Markdown(f\"<p style='color:orange;'>Não há dados de sentimento para gerar o gráfico no período '{periodo_sentimento}'.</p>\"))\n",
        "\n",
        "    elif escolha == '7':\n",
        "        display(Markdown(\"---\"))\n",
        "        confirmacao = input(\"Tem certeza que deseja limpar todo o histórico de palavras? (sim/não): \").lower()\n",
        "        if confirmacao == 'sim':\n",
        "            historico_de_palavras = [] # Limpa a lista na memória\n",
        "            salvar_historico(ARQUIVO_HISTORICO) # Salva o arquivo JSON vazio\n",
        "            display(Markdown(\"<p style='color:green;'>Histórico de palavras limpo com sucesso.</p>\"))\n",
        "        else:\n",
        "            display(Markdown(\"<p style='color:blue;'>Limpeza do histórico cancelada.</p>\"))\n",
        "\n",
        "    elif escolha == '8':\n",
        "        display(Markdown(\"---\"))\n",
        "        display(Markdown(\"### Obrigado por usar o Diário de Sentimentos! Até mais. 👋\"))\n",
        "        break # Sai do loop\n",
        "\n",
        "    else:\n",
        "        display(Markdown(\"<p style='color:red;'>**Escolha inválida.** Por favor, digite um número de 1 a 8.</p>\"))\n",
        "\n",
        "\n",
        "\n",
        "\n"
      ],
      "metadata": {
        "id": "AI1lNUPtui7E",
        "colab": {
          "base_uri": "https://localhost:8080/",
          "height": 1000
        },
        "outputId": "c8c410b4-5549-41b4-c26e-6db85b21a8e4"
      },
      "execution_count": null,
      "outputs": [
        {
          "output_type": "display_data",
          "data": {
            "text/plain": [
              "<IPython.core.display.Markdown object>"
            ],
            "text/markdown": "# Diário de Sentimentos Interativo"
          },
          "metadata": {}
        },
        {
          "output_type": "display_data",
          "data": {
            "text/plain": [
              "<IPython.core.display.Markdown object>"
            ],
            "text/markdown": "## Olá! Eu sou AnandaBot!"
          },
          "metadata": {}
        },
        {
          "output_type": "display_data",
          "data": {
            "text/plain": [
              "<IPython.core.display.Markdown object>"
            ],
            "text/markdown": "Meu nome, Ananda (आनन्द), vem do Sânscrito e significa **'bem-aventurança'**, **'alegria suprema'**."
          },
          "metadata": {}
        },
        {
          "output_type": "display_data",
          "data": {
            "text/plain": [
              "<IPython.core.display.Markdown object>"
            ],
            "text/markdown": "Ananda também foi um discípulo de Buda, conhecido por sua compaixão e memória."
          },
          "metadata": {}
        },
        {
          "output_type": "display_data",
          "data": {
            "text/plain": [
              "<IPython.core.display.Markdown object>"
            ],
            "text/markdown": "Estou aqui para te ajudar a refletir sobre seus sentimentos e encontrar momentos de bem-estar."
          },
          "metadata": {}
        },
        {
          "name": "stdout",
          "output_type": "stream",
          "text": [
            "Como você gostaria de ser chamado(a)? Ju\n"
          ]
        },
        {
          "output_type": "display_data",
          "data": {
            "text/plain": [
              "<IPython.core.display.Markdown object>"
            ],
            "text/markdown": "Que nome bonito, **Ju**!"
          },
          "metadata": {}
        },
        {
          "name": "stdout",
          "output_type": "stream",
          "text": [
            "Para te conhecer um pouco melhor, Ju, qual é a sua data de nascimento (formato DD/MM/AAAA)? 03/09/2005\n"
          ]
        },
        {
          "output_type": "display_data",
          "data": {
            "text/plain": [
              "<IPython.core.display.Markdown object>"
            ],
            "text/markdown": "Que legal! Então você tem **19** anos!"
          },
          "metadata": {}
        },
        {
          "output_type": "display_data",
          "data": {
            "text/plain": [
              "<IPython.core.display.Markdown object>"
            ],
            "text/markdown": "\nPronto para começar nosso diário de sentimentos, Ju?"
          },
          "metadata": {}
        },
        {
          "output_type": "display_data",
          "data": {
            "text/plain": [
              "<IPython.core.display.Markdown object>"
            ],
            "text/markdown": "# Diário de Sentimentos Interativo"
          },
          "metadata": {}
        },
        {
          "output_type": "display_data",
          "data": {
            "text/plain": [
              "<IPython.core.display.Markdown object>"
            ],
            "text/markdown": "\n---\n## Olá, Ju! O que você gostaria de fazer hoje?\n\n1.  **Resumir meu dia e obter sugestões de bem-estar** (resumo geral, sem registro no histórico)\n2.  **Registrar 5 palavras-chave do meu dia e analisar sentimento** (para histórico e análise de frequência)\n3.  **Ver histórico de palavras**\n4.  **Baixar histórico como CSV**\n5.  **Ver ranking das palavras mais frequentes**\n6.  **Ver frequência de sentimentos (gráfico)**\n7.  **Limpar histórico de palavras**\n8.  **Sair**\n"
          },
          "metadata": {}
        },
        {
          "name": "stdout",
          "output_type": "stream",
          "text": [
            "Digite o número da sua escolha: 1\n"
          ]
        },
        {
          "output_type": "display_data",
          "data": {
            "text/plain": [
              "<IPython.core.display.Markdown object>"
            ],
            "text/markdown": "---"
          },
          "metadata": {}
        },
        {
          "name": "stdout",
          "output_type": "stream",
          "text": [
            "Como foi seu dia hoje (em um breve resumo)? Acordei e PÁ! Dei com o dedinho do pé na quina da porta. Mano do céu, pensa numa dor! Já comecei o dia com o pé esquerdo... literalmente! Achei que ia ser só ladeira abaixo.  Mas aí, beleza, fui pra cima nos estudos da Alura. Mergulhei de cabeça nos cursos, e que parada irada! Cada módulo era uma descoberta nova, minha mente tá fervilhando com tanta informação. Esqueci da dor, esqueci de tudo! O foco foi total em aprender e absorver o máximo. De um começo meio torto pra um dia superprodutivo, a Alura mandou bem demais. Agora é descansar porque amanhã tem mais, e o dedinho já tá avisado pra ficar esperto! Valeu cada segundo, sério mesmo!\n"
          ]
        },
        {
          "output_type": "display_data",
          "data": {
            "text/plain": [
              "<IPython.core.display.Markdown object>"
            ],
            "text/markdown": "### Análise do seu dia:"
          },
          "metadata": {}
        },
        {
          "output_type": "display_data",
          "data": {
            "text/plain": [
              "<IPython.core.display.Markdown object>"
            ],
            "text/markdown": "Pontuação: 0.7\nPredominante: Positivo\nCategorias: Animado, Satisfeito, Aliviado\nAnálise: O texto inicia com uma experiência negativa (a dor no dedo do pé), expressa com linguagem informal e exclamativa que indica surpresa e desconforto.  A frase \"Já comecei o dia com o pé esquerdo... literalmente!\" reforça esse sentimento inicial negativo.  No entanto, a narrativa rapidamente muda de foco para a experiência positiva de estudar na Alura.  As palavras \"irada\", \"descoberta nova\", \"mente fervilhando\", \"superprodutivo\" e \"vale cada segundo\" demonstram entusiasmo, satisfação e realização.  O sentimento negativo inicial é superado e eclipsado pela alegria e produtividade experimentadas ao longo do dia. A pontuação de 0.7 reflete esse balanço, com o positivo preponderando significativamente sobre o negativo inicial.\n\nSugestão/Reflexão:  Embora o dia tenha começado com um contratempo, a capacidade de superar a frustração inicial e se concentrar em algo gratificante (os estudos) é uma habilidade valiosa.  Essa experiência reforça a importância da resiliência e da capacidade de mudar de foco quando enfrentamos adversidades.  Aproveitar os momentos positivos e aprender com os negativos é uma forma construtiva de lidar com os altos e baixos da vida.  Manter a atenção nos objetivos e celebrar os sucessos diários, mesmo os pequenos, contribui para a construção de uma perspectiva positiva e um bem-estar geral.\n"
          },
          "metadata": {}
        },
        {
          "output_type": "display_data",
          "data": {
            "text/plain": [
              "<IPython.core.display.Markdown object>"
            ],
            "text/markdown": "### Sugestões para um momento de bem-estar:"
          },
          "metadata": {}
        },
        {
          "output_type": "display_data",
          "data": {
            "text/plain": [
              "<IPython.core.display.Markdown object>"
            ],
            "text/markdown": "Aqui estão algumas atividades simples e rápidas para ajudar a melhorar o humor ou trazer um momento de relaxamento após um dia produtivo, inspiradas pelo seu resumo:\n\n1. **Alongamento leve:**  Após um dia focado em estudos, seu corpo pode estar tenso.  Alongar suavemente os músculos, principalmente os das pernas e pés (em memória do dedinho!), pode aliviar a tensão e promover relaxamento.  Lembre-se: o objetivo é conforto, não uma sessão intensa de exercícios.\n\n2. **Momento de leitura leve:**  Busque algo prazeroso e de fácil digestão para ler, algo que não exija esforço mental significativo.  Um conto curto, um capítulo de um livro leve, ou até mesmo uma revista com imagens bonitas podem proporcionar um descanso mental e uma sensação de calma.\n\n3. **Música relaxante:**  Coloque uma música calma e relaxante para tocar.  Escolha um gênero que você goste e que te traga paz.  Fecha os olhos e deixe a melodia te levar para um estado de tranquilidade.  Experimente diferentes gêneros musicais até encontrar algo que te agrade.\n\n4. **Bebida quente e reconfortante:** Prepare um chá de ervas ou uma bebida quente que você goste. O ato de preparar e saborear a bebida lentamente pode ser uma pequena forma de autocuidado e um momento de pausa para refletir sobre o dia.\n\n5. **Escreva três coisas boas do seu dia:**  Apesar do começo conturbado, seu dia foi produtivo e cheio de aprendizado. Anote três coisas positivas que aconteceram, focando no sucesso nos seus estudos e na superação do início desafiador.  Isso reforça a sensação de realização e contribui para um estado emocional positivo.\n\n\nLembre-se: essas são apenas *opções* para explorar e não metas a serem alcançadas.  Escolha a atividade que mais te atrai no momento e aproveite o momento de descanso!\n"
          },
          "metadata": {}
        },
        {
          "output_type": "display_data",
          "data": {
            "text/plain": [
              "<IPython.core.display.Markdown object>"
            ],
            "text/markdown": "\n---\n## Olá, Ju! O que você gostaria de fazer hoje?\n\n1.  **Resumir meu dia e obter sugestões de bem-estar** (resumo geral, sem registro no histórico)\n2.  **Registrar 5 palavras-chave do meu dia e analisar sentimento** (para histórico e análise de frequência)\n3.  **Ver histórico de palavras**\n4.  **Baixar histórico como CSV**\n5.  **Ver ranking das palavras mais frequentes**\n6.  **Ver frequência de sentimentos (gráfico)**\n7.  **Limpar histórico de palavras**\n8.  **Sair**\n"
          },
          "metadata": {}
        },
        {
          "name": "stdout",
          "output_type": "stream",
          "text": [
            "Digite o número da sua escolha: 2\n"
          ]
        },
        {
          "output_type": "display_data",
          "data": {
            "text/plain": [
              "<IPython.core.display.Markdown object>"
            ],
            "text/markdown": "---"
          },
          "metadata": {}
        },
        {
          "output_type": "stream",
          "name": "stdout",
          "text": [
            "Digite 5 palavras-chave que resumem seu dia (separe por vírgula): dor, aprendizagem, ansiedade, avanços, novidades\n",
            "Histórico salvo com sucesso em historico_palavras.json\n"
          ]
        },
        {
          "output_type": "display_data",
          "data": {
            "text/plain": [
              "<IPython.core.display.Markdown object>"
            ],
            "text/markdown": "<p style='color:green;'>Palavras-chave registradas no histórico.</p>"
          },
          "metadata": {}
        },
        {
          "output_type": "display_data",
          "data": {
            "text/plain": [
              "<IPython.core.display.Markdown object>"
            ],
            "text/markdown": "### Análise baseada nas 5 palavras-chave:"
          },
          "metadata": {}
        },
        {
          "output_type": "display_data",
          "data": {
            "text/plain": [
              "<IPython.core.display.Markdown object>"
            ],
            "text/markdown": "Pontuação: 0\nPredominante: Neutro\nCategorias:  Ansiedade, Progresso, Dor\nAnálise: O conjunto de palavras apresenta uma mistura de sentimentos positivos e negativos. \"Dor\" e \"ansiedade\" indicam experiências negativas, enquanto \"aprendizagem\", \"avanços\" e \"novidades\" sugerem aspectos positivos e de crescimento.  A \"dor\" pode ser física ou emocional, enquanto a ansiedade indica incerteza. Os \"avanços\" e \"novidades\" demonstram progresso e potencial, mas sem necessariamente anular a experiência negativa. A ausência de sentimentos fortemente positivos ou negativos resulta em uma pontuação neutra.\n\nSugestão/Reflexão: A presença simultânea de dor e ansiedade com avanços e novidades sugere um dia de transformação e crescimento, apesar do desconforto.  Para lidar com isso de forma construtiva, é importante reconhecer e validar as emoções negativas (dor e ansiedade) sem se deixar paralisar por elas.  Focalizar nos \"avanços\" e \"novidades\" como conquistas, aprendendo com a experiência e  buscando formas saudáveis de gerenciar a ansiedade (como exercícios físicos, meditação ou conversa com alguém próximo), pode transformar um dia neutro em um dia de aprendizado e crescimento pessoal.\n"
          },
          "metadata": {}
        },
        {
          "output_type": "display_data",
          "data": {
            "text/plain": [
              "<IPython.core.display.Markdown object>"
            ],
            "text/markdown": "\n---\n## Olá, Ju! O que você gostaria de fazer hoje?\n\n1.  **Resumir meu dia e obter sugestões de bem-estar** (resumo geral, sem registro no histórico)\n2.  **Registrar 5 palavras-chave do meu dia e analisar sentimento** (para histórico e análise de frequência)\n3.  **Ver histórico de palavras**\n4.  **Baixar histórico como CSV**\n5.  **Ver ranking das palavras mais frequentes**\n6.  **Ver frequência de sentimentos (gráfico)**\n7.  **Limpar histórico de palavras**\n8.  **Sair**\n"
          },
          "metadata": {}
        },
        {
          "name": "stdout",
          "output_type": "stream",
          "text": [
            "Digite o número da sua escolha: 3\n"
          ]
        },
        {
          "output_type": "display_data",
          "data": {
            "text/plain": [
              "<IPython.core.display.Markdown object>"
            ],
            "text/markdown": "---"
          },
          "metadata": {}
        },
        {
          "output_type": "display_data",
          "data": {
            "text/plain": [
              "<IPython.core.display.Markdown object>"
            ],
            "text/markdown": "## Histórico de Palavras\n\n| Data e Hora       | Palavra          | Sentimento        |\n|-------------------|------------------|-------------------|\n| 18/05/2025 13:10 | Dor              | Negativo          |\n| 18/05/2025 13:10 | Aprendizagem     | Positivo          |\n| 18/05/2025 13:10 | Ansiedade        | Negativo          |\n| 18/05/2025 13:10 | Avanços          | Positivo          |\n| 18/05/2025 13:10 | Novidades        | Positivo          |\n"
          },
          "metadata": {}
        },
        {
          "output_type": "display_data",
          "data": {
            "text/plain": [
              "<IPython.core.display.Markdown object>"
            ],
            "text/markdown": "\n---\n## Olá, Ju! O que você gostaria de fazer hoje?\n\n1.  **Resumir meu dia e obter sugestões de bem-estar** (resumo geral, sem registro no histórico)\n2.  **Registrar 5 palavras-chave do meu dia e analisar sentimento** (para histórico e análise de frequência)\n3.  **Ver histórico de palavras**\n4.  **Baixar histórico como CSV**\n5.  **Ver ranking das palavras mais frequentes**\n6.  **Ver frequência de sentimentos (gráfico)**\n7.  **Limpar histórico de palavras**\n8.  **Sair**\n"
          },
          "metadata": {}
        },
        {
          "name": "stdout",
          "output_type": "stream",
          "text": [
            "Digite o número da sua escolha: 4\n"
          ]
        },
        {
          "output_type": "display_data",
          "data": {
            "text/plain": [
              "<IPython.core.display.Markdown object>"
            ],
            "text/markdown": "---"
          },
          "metadata": {}
        },
        {
          "output_type": "stream",
          "name": "stdout",
          "text": [
            "Preparando download de 'historico_palavras.csv'...\n"
          ]
        },
        {
          "output_type": "display_data",
          "data": {
            "text/plain": [
              "<IPython.core.display.Javascript object>"
            ],
            "application/javascript": [
              "\n",
              "    async function download(id, filename, size) {\n",
              "      if (!google.colab.kernel.accessAllowed) {\n",
              "        return;\n",
              "      }\n",
              "      const div = document.createElement('div');\n",
              "      const label = document.createElement('label');\n",
              "      label.textContent = `Downloading \"${filename}\": `;\n",
              "      div.appendChild(label);\n",
              "      const progress = document.createElement('progress');\n",
              "      progress.max = size;\n",
              "      div.appendChild(progress);\n",
              "      document.body.appendChild(div);\n",
              "\n",
              "      const buffers = [];\n",
              "      let downloaded = 0;\n",
              "\n",
              "      const channel = await google.colab.kernel.comms.open(id);\n",
              "      // Send a message to notify the kernel that we're ready.\n",
              "      channel.send({})\n",
              "\n",
              "      for await (const message of channel.messages) {\n",
              "        // Send a message to notify the kernel that we're ready.\n",
              "        channel.send({})\n",
              "        if (message.buffers) {\n",
              "          for (const buffer of message.buffers) {\n",
              "            buffers.push(buffer);\n",
              "            downloaded += buffer.byteLength;\n",
              "            progress.value = downloaded;\n",
              "          }\n",
              "        }\n",
              "      }\n",
              "      const blob = new Blob(buffers, {type: 'application/binary'});\n",
              "      const a = document.createElement('a');\n",
              "      a.href = window.URL.createObjectURL(blob);\n",
              "      a.download = filename;\n",
              "      div.appendChild(a);\n",
              "      a.click();\n",
              "      div.remove();\n",
              "    }\n",
              "  "
            ]
          },
          "metadata": {}
        },
        {
          "output_type": "display_data",
          "data": {
            "text/plain": [
              "<IPython.core.display.Javascript object>"
            ],
            "application/javascript": [
              "download(\"download_3c7ddefa-1400-4f26-82e2-bb4ca2a5b867\", \"historico_palavras.csv\", 250)"
            ]
          },
          "metadata": {}
        },
        {
          "output_type": "stream",
          "name": "stdout",
          "text": [
            "Download iniciado.\n"
          ]
        },
        {
          "output_type": "display_data",
          "data": {
            "text/plain": [
              "<IPython.core.display.Markdown object>"
            ],
            "text/markdown": "\n---\n## Olá, Ju! O que você gostaria de fazer hoje?\n\n1.  **Resumir meu dia e obter sugestões de bem-estar** (resumo geral, sem registro no histórico)\n2.  **Registrar 5 palavras-chave do meu dia e analisar sentimento** (para histórico e análise de frequência)\n3.  **Ver histórico de palavras**\n4.  **Baixar histórico como CSV**\n5.  **Ver ranking das palavras mais frequentes**\n6.  **Ver frequência de sentimentos (gráfico)**\n7.  **Limpar histórico de palavras**\n8.  **Sair**\n"
          },
          "metadata": {}
        },
        {
          "name": "stdout",
          "output_type": "stream",
          "text": [
            "Digite o número da sua escolha: 5\n"
          ]
        },
        {
          "output_type": "display_data",
          "data": {
            "text/plain": [
              "<IPython.core.display.Markdown object>"
            ],
            "text/markdown": "---"
          },
          "metadata": {}
        },
        {
          "output_type": "display_data",
          "data": {
            "text/plain": [
              "<IPython.core.display.Markdown object>"
            ],
            "text/markdown": "## Ranking das Palavras Mais Frequentes"
          },
          "metadata": {}
        },
        {
          "name": "stdout",
          "output_type": "stream",
          "text": [
            "Escolha o período (semanal, mensal, total): total\n",
            "Quantas palavras deseja ver no ranking? (Digite um número): 5\n"
          ]
        },
        {
          "output_type": "display_data",
          "data": {
            "text/plain": [
              "<IPython.core.display.Markdown object>"
            ],
            "text/markdown": "### Ranking (Total - Top 5):\n1. **Dor**: 1 ocorrência(s)\n2. **Aprendizagem**: 1 ocorrência(s)\n3. **Ansiedade**: 1 ocorrência(s)\n4. **Avanços**: 1 ocorrência(s)\n5. **Novidades**: 1 ocorrência(s)\n"
          },
          "metadata": {}
        },
        {
          "output_type": "display_data",
          "data": {
            "text/plain": [
              "<IPython.core.display.Markdown object>"
            ],
            "text/markdown": "\n---\n## Olá, Ju! O que você gostaria de fazer hoje?\n\n1.  **Resumir meu dia e obter sugestões de bem-estar** (resumo geral, sem registro no histórico)\n2.  **Registrar 5 palavras-chave do meu dia e analisar sentimento** (para histórico e análise de frequência)\n3.  **Ver histórico de palavras**\n4.  **Baixar histórico como CSV**\n5.  **Ver ranking das palavras mais frequentes**\n6.  **Ver frequência de sentimentos (gráfico)**\n7.  **Limpar histórico de palavras**\n8.  **Sair**\n"
          },
          "metadata": {}
        },
        {
          "name": "stdout",
          "output_type": "stream",
          "text": [
            "Digite o número da sua escolha: 6\n"
          ]
        },
        {
          "output_type": "display_data",
          "data": {
            "text/plain": [
              "<IPython.core.display.Markdown object>"
            ],
            "text/markdown": "---"
          },
          "metadata": {}
        },
        {
          "output_type": "display_data",
          "data": {
            "text/plain": [
              "<IPython.core.display.Markdown object>"
            ],
            "text/markdown": "## Gráfico de Frequência de Sentimentos"
          },
          "metadata": {}
        },
        {
          "name": "stdout",
          "output_type": "stream",
          "text": [
            "Escolha o período (semanal, mensal, total): total\n"
          ]
        },
        {
          "output_type": "display_data",
          "data": {
            "text/plain": [
              "<Figure size 1000x600 with 1 Axes>"
            ],
            "image/png": "[encoded data removed]"
          },
          "metadata": {}
        },
        {
          "output_type": "display_data",
          "data": {
            "text/plain": [
              "<IPython.core.display.Markdown object>"
            ],
            "text/markdown": "\n---\n## Olá, Ju! O que você gostaria de fazer hoje?\n\n1.  **Resumir meu dia e obter sugestões de bem-estar** (resumo geral, sem registro no histórico)\n2.  **Registrar 5 palavras-chave do meu dia e analisar sentimento** (para histórico e análise de frequência)\n3.  **Ver histórico de palavras**\n4.  **Baixar histórico como CSV**\n5.  **Ver ranking das palavras mais frequentes**\n6.  **Ver frequência de sentimentos (gráfico)**\n7.  **Limpar histórico de palavras**\n8.  **Sair**\n"
          },
          "metadata": {}
        },
        {
          "name": "stdout",
          "output_type": "stream",
          "text": [
            "Digite o número da sua escolha: 2\n"
          ]
        },
        {
          "output_type": "display_data",
          "data": {
            "text/plain": [
              "<IPython.core.display.Markdown object>"
            ],
            "text/markdown": "---"
          },
          "metadata": {}
        },
        {
          "output_type": "stream",
          "name": "stdout",
          "text": [
            "Digite 5 palavras-chave que resumem seu dia (separe por vírgula): alegria, amigos, jogos, saudade, cansaço\n",
            "Histórico salvo com sucesso em historico_palavras.json\n"
          ]
        },
        {
          "output_type": "display_data",
          "data": {
            "text/plain": [
              "<IPython.core.display.Markdown object>"
            ],
            "text/markdown": "<p style='color:green;'>Palavras-chave registradas no histórico.</p>"
          },
          "metadata": {}
        },
        {
          "output_type": "display_data",
          "data": {
            "text/plain": [
              "<IPython.core.display.Markdown object>"
            ],
            "text/markdown": "### Análise baseada nas 5 palavras-chave:"
          },
          "metadata": {}
        },
        {
          "output_type": "display_data",
          "data": {
            "text/plain": [
              "<IPython.core.display.Markdown object>"
            ],
            "text/markdown": "Pontuação: 0.5\nPredominante: Positivo\nCategorias: Alegria, Cansaço, Saudade\nAnálise: A lista contém uma mistura de sentimentos positivos e negativos. \"Alegria\", \"amigos\" e \"jogos\" contribuem para um sentimento positivo e animado.  \"Cansaço\" introduz um elemento negativo, enquanto \"saudade\" é um sentimento mais complexo, podendo ser interpretado como levemente negativo ou neutro dependendo do contexto, representando uma mistura de nostalgia e talvez uma leve tristeza.  O peso dos sentimentos positivos é maior, levando a uma pontuação positiva, mas o cansaço reduz a pontuação para 0,5, indicando uma experiência equilibrada entre emoções positivas e negativas.\n\nSugestão/Reflexão: O dia parece ter sido bastante agitado e cheio de momentos bons e ruins.  Para lidar de forma construtiva com o cansaço, seria importante priorizar o descanso e a recuperação.  Uma noite de sono tranquila e um tempo para relaxar podem ajudar a recarregar as energias para o próximo dia. A saudade pode ser trabalhada conectando-se com as pessoas ou memórias que a causaram,  se possível.  Aproveitar os momentos de alegria e a companhia dos amigos é uma forma de cultivar a positividade.\n"
          },
          "metadata": {}
        },
        {
          "output_type": "display_data",
          "data": {
            "text/plain": [
              "<IPython.core.display.Markdown object>"
            ],
            "text/markdown": "\n---\n## Olá, Ju! O que você gostaria de fazer hoje?\n\n1.  **Resumir meu dia e obter sugestões de bem-estar** (resumo geral, sem registro no histórico)\n2.  **Registrar 5 palavras-chave do meu dia e analisar sentimento** (para histórico e análise de frequência)\n3.  **Ver histórico de palavras**\n4.  **Baixar histórico como CSV**\n5.  **Ver ranking das palavras mais frequentes**\n6.  **Ver frequência de sentimentos (gráfico)**\n7.  **Limpar histórico de palavras**\n8.  **Sair**\n"
          },
          "metadata": {}
        },
        {
          "name": "stdout",
          "output_type": "stream",
          "text": [
            "Digite o número da sua escolha: 3\n"
          ]
        },
        {
          "output_type": "display_data",
          "data": {
            "text/plain": [
              "<IPython.core.display.Markdown object>"
            ],
            "text/markdown": "---"
          },
          "metadata": {}
        },
        {
          "output_type": "display_data",
          "data": {
            "text/plain": [
              "<IPython.core.display.Markdown object>"
            ],
            "text/markdown": "## Histórico de Palavras\n\n| Data e Hora       | Palavra          | Sentimento        |\n|-------------------|------------------|-------------------|\n| 18/05/2025 13:10 | Dor              | Negativo          |\n| 18/05/2025 13:10 | Aprendizagem     | Positivo          |\n| 18/05/2025 13:10 | Ansiedade        | Negativo          |\n| 18/05/2025 13:10 | Avanços          | Positivo          |\n| 18/05/2025 13:10 | Novidades        | Positivo          |\n| 18/05/2025 13:12 | Alegria          | Positivo          |\n| 18/05/2025 13:12 | Amigos           | Positivo          |\n| 18/05/2025 13:12 | Jogos            | Neutro            |\n| 18/05/2025 13:12 | Saudade          | Negativo          |\n| 18/05/2025 13:12 | Cansaço          | Negativo          |\n"
          },
          "metadata": {}
        },
        {
          "output_type": "display_data",
          "data": {
            "text/plain": [
              "<IPython.core.display.Markdown object>"
            ],
            "text/markdown": "\n---\n## Olá, Ju! O que você gostaria de fazer hoje?\n\n1.  **Resumir meu dia e obter sugestões de bem-estar** (resumo geral, sem registro no histórico)\n2.  **Registrar 5 palavras-chave do meu dia e analisar sentimento** (para histórico e análise de frequência)\n3.  **Ver histórico de palavras**\n4.  **Baixar histórico como CSV**\n5.  **Ver ranking das palavras mais frequentes**\n6.  **Ver frequência de sentimentos (gráfico)**\n7.  **Limpar histórico de palavras**\n8.  **Sair**\n"
          },
          "metadata": {}
        },
        {
          "name": "stdout",
          "output_type": "stream",
          "text": [
            "Digite o número da sua escolha: 6\n"
          ]
        },
        {
          "output_type": "display_data",
          "data": {
            "text/plain": [
              "<IPython.core.display.Markdown object>"
            ],
            "text/markdown": "---"
          },
          "metadata": {}
        },
        {
          "output_type": "display_data",
          "data": {
            "text/plain": [
              "<IPython.core.display.Markdown object>"
            ],
            "text/markdown": "## Gráfico de Frequência de Sentimentos"
          },
          "metadata": {}
        },
        {
          "name": "stdout",
          "output_type": "stream",
          "text": [
            "Escolha o período (semanal, mensal, total): total\n"
          ]
        },
        {
          "output_type": "display_data",
          "data": {
            "text/plain": [
              "<Figure size 1000x600 with 1 Axes>"
            ],
            "image/png": "[encoded data removed]"
          },
          "metadata": {}
        },
        {
          "output_type": "display_data",
          "data": {
            "text/plain": [
              "<IPython.core.display.Markdown object>"
            ],
            "text/markdown": "\n---\n## Olá, Ju! O que você gostaria de fazer hoje?\n\n1.  **Resumir meu dia e obter sugestões de bem-estar** (resumo geral, sem registro no histórico)\n2.  **Registrar 5 palavras-chave do meu dia e analisar sentimento** (para histórico e análise de frequência)\n3.  **Ver histórico de palavras**\n4.  **Baixar histórico como CSV**\n5.  **Ver ranking das palavras mais frequentes**\n6.  **Ver frequência de sentimentos (gráfico)**\n7.  **Limpar histórico de palavras**\n8.  **Sair**\n"
          },
          "metadata": {}
        }
      ]
    }
  ]
}